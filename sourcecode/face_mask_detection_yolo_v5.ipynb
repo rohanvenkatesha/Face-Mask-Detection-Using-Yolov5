{
  "metadata": {
    "kernelspec": {
      "display_name": "Python 3",
      "name": "python3"
    },
    "language_info": {
      "pygments_lexer": "ipython3",
      "nbconvert_exporter": "python",
      "version": "3.6.4",
      "file_extension": ".py",
      "codemirror_mode": {
        "name": "ipython",
        "version": 3
      },
      "name": "python",
      "mimetype": "text/x-python"
    },
    "colab": {
      "provenance": []
    }
  },
  "nbformat_minor": 0,
  "nbformat": 4,
  "cells": [
    {
      "cell_type": "markdown",
      "source": [
        "<div class=\"alert alert-success\" style = \"border-radius: 20px;text-align: center;\" role=\"alert\">\n",
        "    Don't forget to upvote if you liked the notebook\n",
        "</div>"
      ],
      "metadata": {
        "id": "wukrMWk7QxqY"
      }
    },
    {
      "cell_type": "markdown",
      "source": [
        "# Importing Libraries"
      ],
      "metadata": {
        "id": "pee-CBbzQxqb"
      }
    },
    {
      "cell_type": "code",
      "source": [
        "!pip show torch"
      ],
      "metadata": {
        "id": "PrptIEe7rV1j"
      },
      "execution_count": null,
      "outputs": []
    },
    {
      "cell_type": "code",
      "source": [
        "import numpy as np # linear algebra\n",
        "import pandas as pd # data processing, CSV file I/O (e.g. pd.read_csv)\n",
        "import matplotlib.pyplot as plt\n",
        "import tensorflow as tf\n",
        "from tensorflow import keras\n",
        "import cv2\n",
        "import seaborn as sns\n",
        "import PIL\n",
        "\n",
        "import os\n",
        "for dirname, _, filenames in os.walk('/content/drive/MyDrive/kaggle/input'):\n",
        "    for filename in filenames:\n",
        "        print(os.path.join(dirname, filename))"
      ],
      "metadata": {
        "_kg_hide-input": false,
        "_kg_hide-output": true,
        "execution": {
          "iopub.status.busy": "2023-07-18T13:15:41.344859Z",
          "iopub.execute_input": "2023-07-18T13:15:41.345231Z",
          "iopub.status.idle": "2023-07-18T13:15:59.198744Z",
          "shell.execute_reply.started": "2023-07-18T13:15:41.345199Z",
          "shell.execute_reply": "2023-07-18T13:15:59.197754Z"
        },
        "trusted": true,
        "id": "gXDw3J11Qxqb"
      },
      "execution_count": null,
      "outputs": []
    },
    {
      "cell_type": "markdown",
      "source": [
        "# Preparing directories"
      ],
      "metadata": {
        "id": "vPnGdKARQxqc"
      }
    },
    {
      "cell_type": "code",
      "source": [
        "# Path\n",
        "img_dir = '/content/drive/MyDrive/kaggle/input/face-mask-detection/images'\n",
        "\"\"\"\n",
        "annotation_directory contains files, and each file is associated to only one image,\n",
        "and it contains the height and width of the image and also xmin,ymin,xmax, and ymax of each boundary box\n",
        "inside the image\n",
        "\"\"\"\n",
        "annotation_dir = '/content/drive/MyDrive/kaggle/input/face-mask-detection/annotations'\n",
        "\n",
        "input_dir = '/content/drive/MyDrive/kaggle/input/face-mask-detection'\n",
        "output_dir = '/content/drive/MyDrive/kaggle/working'"
      ],
      "metadata": {
        "execution": {
          "iopub.status.busy": "2023-07-18T13:15:59.200666Z",
          "iopub.execute_input": "2023-07-18T13:15:59.201500Z",
          "iopub.status.idle": "2023-07-18T13:15:59.207255Z",
          "shell.execute_reply.started": "2023-07-18T13:15:59.201463Z",
          "shell.execute_reply": "2023-07-18T13:15:59.206101Z"
        },
        "trusted": true,
        "id": "-y9CUyS2Qxqd"
      },
      "execution_count": null,
      "outputs": []
    },
    {
      "cell_type": "markdown",
      "source": [
        "# Viewing some images"
      ],
      "metadata": {
        "id": "h19ZBeIOQxqd"
      }
    },
    {
      "cell_type": "code",
      "source": [
        "# sample visuaization\n",
        "for idx, image in enumerate(os.listdir(img_dir)):\n",
        "    img = cv2.imread(os.path.join(img_dir, image), 1)\n",
        "    plt.imshow(img)\n",
        "    plt.show()\n",
        "\n",
        "    if idx == 3:\n",
        "        break"
      ],
      "metadata": {
        "execution": {
          "iopub.status.busy": "2023-07-18T13:15:59.208192Z",
          "iopub.execute_input": "2023-07-18T13:15:59.209344Z",
          "iopub.status.idle": "2023-07-18T13:16:00.717549Z",
          "shell.execute_reply.started": "2023-07-18T13:15:59.209310Z",
          "shell.execute_reply": "2023-07-18T13:16:00.716600Z"
        },
        "trusted": true,
        "id": "cUENYKUCQxqd"
      },
      "execution_count": null,
      "outputs": []
    },
    {
      "cell_type": "code",
      "source": [
        "from google.colab import drive\n",
        "drive.mount('/content/drive')"
      ],
      "metadata": {
        "id": "v05ILYYaRyvQ"
      },
      "execution_count": null,
      "outputs": []
    },
    {
      "cell_type": "markdown",
      "source": [
        "# Storing images paths"
      ],
      "metadata": {
        "id": "yJOjm_QNQxqe"
      }
    },
    {
      "cell_type": "code",
      "source": [
        "img_file_path = []\n",
        "for img in os.listdir(img_dir): # img here is the name of the image not the image itself\n",
        "    image = cv2.imread(os.path.join(img_dir,img), 0) # 0 for grayscale\n",
        "    img_file_path.append(f'{img}')"
      ],
      "metadata": {
        "execution": {
          "iopub.status.busy": "2023-07-18T13:16:00.720526Z",
          "iopub.execute_input": "2023-07-18T13:16:00.721204Z",
          "iopub.status.idle": "2023-07-18T13:16:24.088302Z",
          "shell.execute_reply.started": "2023-07-18T13:16:00.721169Z",
          "shell.execute_reply": "2023-07-18T13:16:24.087151Z"
        },
        "trusted": true,
        "id": "dxADU5PbQxqe"
      },
      "execution_count": null,
      "outputs": []
    },
    {
      "cell_type": "markdown",
      "source": [
        "# Libraries needed for reading XML files"
      ],
      "metadata": {
        "id": "897M0QH8Qxqe"
      }
    },
    {
      "cell_type": "code",
      "source": [
        "import xml.etree.ElementTree as ET\n",
        "\"\"\"\n",
        "ElementTree module provides\n",
        "a way to work with Extensible Markup Language (XML) documents as a tree-like structure of elements.\n",
        "\"\"\"\n",
        "import glob"
      ],
      "metadata": {
        "execution": {
          "iopub.status.busy": "2023-07-18T13:16:24.089790Z",
          "iopub.execute_input": "2023-07-18T13:16:24.090168Z",
          "iopub.status.idle": "2023-07-18T13:16:24.096763Z",
          "shell.execute_reply.started": "2023-07-18T13:16:24.090133Z",
          "shell.execute_reply": "2023-07-18T13:16:24.095350Z"
        },
        "trusted": true,
        "id": "xGrNFfD0Qxqe"
      },
      "execution_count": null,
      "outputs": []
    },
    {
      "cell_type": "markdown",
      "source": [
        "# Reading XML files"
      ],
      "metadata": {
        "id": "LVwpESLdQxqe"
      }
    },
    {
      "cell_type": "code",
      "source": [
        "df = { 'name': [],\n",
        "        'label': [],\n",
        "      'width': [],\n",
        "      'height': [],\n",
        "     'xmin': [],\n",
        "     'ymin': [],\n",
        "     'xmax': [],\n",
        "     'ymax': []}\n",
        "\"\"\"\n",
        "The glob.glob() function returns a list of all the pathnames that match the specified pattern.\n",
        "The resulting list can then be used to process or analyze the files that match the pattern.\n",
        "\"\"\"\n",
        "for idx, anno in enumerate(glob.glob(annotation_dir + '/*.xml')):\n",
        "    trees = ET.parse(anno)\n",
        "\n",
        "    #print(anno) print/view the annotation to understand the following code\n",
        "    root = trees.getroot()\n",
        "    width, height = [], []\n",
        "    for item in root.iter():\n",
        "        if item.tag == 'size':\n",
        "            for attr in list(item):\n",
        "                if attr.tag == 'width':\n",
        "                    width = int(round(float(attr.text)))\n",
        "                if attr.tag == 'height':\n",
        "                    height = int(round(float(attr.text)))\n",
        "\n",
        "        if item.tag == 'object':\n",
        "            for attr in list(item):\n",
        "                if 'name' in attr.tag:\n",
        "                    label = attr.text\n",
        "                    df['label'] += [label]\n",
        "                    df['width'] += [width]\n",
        "                    df['height'] += [height]\n",
        "                    #dataset['name']+=[anno.split('/')[-1][0:-4]]\n",
        "                    df['name'] += [anno.split('/')[-1][0:-4]]\n",
        "\n",
        "                if 'bndbox' in attr.tag:\n",
        "                    for dim in attr:\n",
        "                        if dim.tag == 'xmin':\n",
        "                            xmin = int(round(float(dim.text)))\n",
        "                            df['xmin'] += [xmin]\n",
        "\n",
        "                        if dim.tag == 'ymin':\n",
        "                            ymin = int(round(float(dim.text)))\n",
        "                            df['ymin'] += [ymin]\n",
        "                        if dim.tag == 'xmax':\n",
        "                            xmax = int(round(float(dim.text)))\n",
        "                            df['xmax'] += [xmax]\n",
        "                        if dim.tag == 'ymax':\n",
        "                            ymax = int(round(float(dim.text)))\n",
        "                            df['ymax'] += [ymax]\n",
        "\n"
      ],
      "metadata": {
        "execution": {
          "iopub.status.busy": "2023-07-18T13:16:24.098643Z",
          "iopub.execute_input": "2023-07-18T13:16:24.099024Z",
          "iopub.status.idle": "2023-07-18T13:16:30.366321Z",
          "shell.execute_reply.started": "2023-07-18T13:16:24.098992Z",
          "shell.execute_reply": "2023-07-18T13:16:30.365307Z"
        },
        "trusted": true,
        "id": "4yCLZ9idQxqe"
      },
      "execution_count": null,
      "outputs": []
    },
    {
      "cell_type": "markdown",
      "source": [
        "# Viewing data frame of images"
      ],
      "metadata": {
        "id": "RGIkRYa9Qxqf"
      }
    },
    {
      "cell_type": "code",
      "source": [
        "df1 = pd.DataFrame(df)\n",
        "df1.head()"
      ],
      "metadata": {
        "execution": {
          "iopub.status.busy": "2023-07-18T13:16:30.368598Z",
          "iopub.execute_input": "2023-07-18T13:16:30.369603Z",
          "iopub.status.idle": "2023-07-18T13:16:30.408539Z",
          "shell.execute_reply.started": "2023-07-18T13:16:30.369565Z",
          "shell.execute_reply": "2023-07-18T13:16:30.407699Z"
        },
        "trusted": true,
        "id": "muSnyo4BQxqf"
      },
      "execution_count": null,
      "outputs": []
    },
    {
      "cell_type": "markdown",
      "source": [
        "# Describing data frame"
      ],
      "metadata": {
        "id": "Uh4t_GDMQxqf"
      }
    },
    {
      "cell_type": "code",
      "source": [
        "df1.info()"
      ],
      "metadata": {
        "execution": {
          "iopub.status.busy": "2023-07-18T13:16:30.411969Z",
          "iopub.execute_input": "2023-07-18T13:16:30.412260Z",
          "iopub.status.idle": "2023-07-18T13:16:30.439545Z",
          "shell.execute_reply.started": "2023-07-18T13:16:30.412234Z",
          "shell.execute_reply": "2023-07-18T13:16:30.438652Z"
        },
        "trusted": true,
        "id": "gEwmxHAsQxqf"
      },
      "execution_count": null,
      "outputs": []
    },
    {
      "cell_type": "markdown",
      "source": [
        "# Maping labels to integers"
      ],
      "metadata": {
        "id": "L54ObP7iQxqg"
      }
    },
    {
      "cell_type": "code",
      "source": [
        "label_map = { 'without_mask': 0,\n",
        "            'with_mask\t': 1}\n",
        "\n",
        "df1['class'] = df1['label'].map(label_map)"
      ],
      "metadata": {
        "execution": {
          "iopub.status.busy": "2023-07-18T13:16:30.440775Z",
          "iopub.execute_input": "2023-07-18T13:16:30.441073Z",
          "iopub.status.idle": "2023-07-18T13:16:30.448563Z",
          "shell.execute_reply.started": "2023-07-18T13:16:30.441049Z",
          "shell.execute_reply": "2023-07-18T13:16:30.447613Z"
        },
        "trusted": true,
        "id": "dNvgOFIJQxqg"
      },
      "execution_count": null,
      "outputs": []
    },
    {
      "cell_type": "code",
      "source": [
        "df1.head()"
      ],
      "metadata": {
        "execution": {
          "iopub.status.busy": "2023-07-18T13:16:30.450015Z",
          "iopub.execute_input": "2023-07-18T13:16:30.450985Z",
          "iopub.status.idle": "2023-07-18T13:16:30.466616Z",
          "shell.execute_reply.started": "2023-07-18T13:16:30.450953Z",
          "shell.execute_reply": "2023-07-18T13:16:30.465694Z"
        },
        "trusted": true,
        "id": "pJ1lDu6IQxqg"
      },
      "execution_count": null,
      "outputs": []
    },
    {
      "cell_type": "markdown",
      "source": [
        "# Splitting the data"
      ],
      "metadata": {
        "id": "8lx0dTF-Qxqg"
      }
    },
    {
      "cell_type": "code",
      "source": [
        "# split train, test, val data\n",
        "from sklearn.model_selection import train_test_split\n",
        "\n",
        "train, test = train_test_split(img_file_path, test_size=0.2, random_state=101)\n",
        "train, val = train_test_split(train, test_size=0.15, random_state=101)"
      ],
      "metadata": {
        "execution": {
          "iopub.status.busy": "2023-07-18T13:16:30.472702Z",
          "iopub.execute_input": "2023-07-18T13:16:30.472996Z",
          "iopub.status.idle": "2023-07-18T13:16:30.712787Z",
          "shell.execute_reply.started": "2023-07-18T13:16:30.472972Z",
          "shell.execute_reply": "2023-07-18T13:16:30.711626Z"
        },
        "trusted": true,
        "id": "ZInrV6OhQxqg"
      },
      "execution_count": null,
      "outputs": []
    },
    {
      "cell_type": "markdown",
      "source": [
        "# Preparing yolo v5 model"
      ],
      "metadata": {
        "id": "RVE3jFosQxqg"
      }
    },
    {
      "cell_type": "code",
      "source": [
        "# yolo v5\n",
        "!git clone https://github.com/ultralytics/yolov5\n",
        "%cd yolov5\n",
        "!pip install -qr requirements.txt"
      ],
      "metadata": {
        "execution": {
          "iopub.status.busy": "2023-07-18T13:16:30.714175Z",
          "iopub.execute_input": "2023-07-18T13:16:30.714636Z",
          "iopub.status.idle": "2023-07-18T13:17:19.456137Z",
          "shell.execute_reply.started": "2023-07-18T13:16:30.714602Z",
          "shell.execute_reply": "2023-07-18T13:17:19.454875Z"
        },
        "trusted": true,
        "id": "2aiwQx8OQxqg"
      },
      "execution_count": null,
      "outputs": []
    },
    {
      "cell_type": "markdown",
      "source": [
        "# Preparing some new directories"
      ],
      "metadata": {
        "id": "sXno-AGcQxqh"
      }
    },
    {
      "cell_type": "code",
      "source": [
        "# create a separate folder structure for train, validation and test image and validation files\n",
        "os.chdir('/content/drive/MyDrive/kaggle/working')\n",
        "\"\"\"\n",
        "The os.chdir() function is used to change the working directory\n",
        "of the Python script to the specified path.\n",
        "\"\"\"\n",
        "os.mkdir('/content/yolov5/data/train')\n",
        "os.mkdir('/content/yolov5/data/val')\n",
        "os.mkdir('/content/yolov5/data/test')\n",
        "os.mkdir('/content/yolov5/data/train/images')\n",
        "os.mkdir('/content/yolov5/data/train/labels')\n",
        "os.mkdir('/content/yolov5/data/val/images')\n",
        "os.mkdir('/content/yolov5/data/val/labels')\n",
        "os.mkdir('/content/yolov5/data/test/images')\n",
        "os.mkdir('/content/yolov5/data/test/labels')"
      ],
      "metadata": {
        "execution": {
          "iopub.status.busy": "2023-07-18T13:17:19.458602Z",
          "iopub.execute_input": "2023-07-18T13:17:19.459021Z",
          "iopub.status.idle": "2023-07-18T13:17:19.467953Z",
          "shell.execute_reply.started": "2023-07-18T13:17:19.458985Z",
          "shell.execute_reply": "2023-07-18T13:17:19.466969Z"
        },
        "trusted": true,
        "id": "fIMvfWImQxqh"
      },
      "execution_count": null,
      "outputs": []
    },
    {
      "cell_type": "markdown",
      "source": [
        "# Copying the image data in the yolov5 folder"
      ],
      "metadata": {
        "id": "iptghGWRQxqh"
      }
    },
    {
      "cell_type": "code",
      "source": [
        "def open_image_file(image_items, folder_name):\n",
        "\n",
        "    for image in image_items:\n",
        "        img = PIL.Image.open(f'{img_dir}/{image}')\n",
        "        img1 = img.resize((640, 480))\n",
        "        _ = img1.save(f'/content/yolov5/data/{folder_name}/images/{image}')\n",
        "\n",
        "open_image_file(train, 'train')\n",
        "open_image_file(val, 'val')\n",
        "open_image_file(test, 'test')"
      ],
      "metadata": {
        "execution": {
          "iopub.status.busy": "2023-07-18T13:17:19.469020Z",
          "iopub.execute_input": "2023-07-18T13:17:19.469627Z",
          "iopub.status.idle": "2023-07-18T13:20:11.301918Z",
          "shell.execute_reply.started": "2023-07-18T13:17:19.469593Z",
          "shell.execute_reply": "2023-07-18T13:20:11.300869Z"
        },
        "trusted": true,
        "id": "lecoavzSQxqh"
      },
      "execution_count": null,
      "outputs": []
    },
    {
      "cell_type": "markdown",
      "source": [
        "# Resizing boxes to match with the new images size"
      ],
      "metadata": {
        "id": "_xRE7J0mQxqh"
      }
    },
    {
      "cell_type": "code",
      "source": [
        "df1['xmin'] = (640/df1['width']) * df1['xmin']\n",
        "df1['ymin'] = (480/df1['height']) * df1['ymin']\n",
        "df1['xmax'] = (640/df1['width']) * df1['xmax']\n",
        "df1['ymax'] = (480/df1['height']) * df1['ymax']\n",
        "df1.head()"
      ],
      "metadata": {
        "execution": {
          "iopub.status.busy": "2023-07-18T13:20:11.303522Z",
          "iopub.execute_input": "2023-07-18T13:20:11.303896Z",
          "iopub.status.idle": "2023-07-18T13:20:11.329828Z",
          "shell.execute_reply.started": "2023-07-18T13:20:11.303861Z",
          "shell.execute_reply": "2023-07-18T13:20:11.328864Z"
        },
        "trusted": true,
        "id": "nSyj_8ljQxqh"
      },
      "execution_count": null,
      "outputs": []
    },
    {
      "cell_type": "code",
      "source": [
        "df1[['xmin', 'ymin', 'xmax', 'ymax']] = df1[['xmin', 'ymin', 'xmax', 'ymax']].astype('int')"
      ],
      "metadata": {
        "execution": {
          "iopub.status.busy": "2023-07-18T13:20:11.331393Z",
          "iopub.execute_input": "2023-07-18T13:20:11.331793Z",
          "iopub.status.idle": "2023-07-18T13:20:11.341304Z",
          "shell.execute_reply.started": "2023-07-18T13:20:11.331759Z",
          "shell.execute_reply": "2023-07-18T13:20:11.340242Z"
        },
        "trusted": true,
        "id": "cefROcj3Qxqi"
      },
      "execution_count": null,
      "outputs": []
    },
    {
      "cell_type": "code",
      "source": [
        "WIDTH = 640\n",
        "HEIGHT = 480"
      ],
      "metadata": {
        "execution": {
          "iopub.status.busy": "2023-07-18T13:20:11.343143Z",
          "iopub.execute_input": "2023-07-18T13:20:11.343509Z",
          "iopub.status.idle": "2023-07-18T13:20:11.348843Z",
          "shell.execute_reply.started": "2023-07-18T13:20:11.343478Z",
          "shell.execute_reply": "2023-07-18T13:20:11.347747Z"
        },
        "trusted": true,
        "id": "oIknfjvOQxqi"
      },
      "execution_count": null,
      "outputs": []
    },
    {
      "cell_type": "markdown",
      "source": [
        "# Converting from left upper corner and right bottom corner of boxes to just midpoint, height, and width of boxes"
      ],
      "metadata": {
        "id": "0td_g3llQxqi"
      }
    },
    {
      "cell_type": "code",
      "source": [
        "df1['x_center'] = (df1['xmin']+df1['xmax'])/(2*WIDTH)\n",
        "df1['y_center'] = (df1['ymin']+df1['ymax'])/(2*HEIGHT)\n",
        "df1['box_width'] = (df1['xmax']-df1['xmin'])/ WIDTH\n",
        "df1['box_height'] = (df1['ymax']-df1['ymin'])/ HEIGHT"
      ],
      "metadata": {
        "execution": {
          "iopub.status.busy": "2023-07-18T13:20:11.350068Z",
          "iopub.execute_input": "2023-07-18T13:20:11.350474Z",
          "iopub.status.idle": "2023-07-18T13:20:11.362713Z",
          "shell.execute_reply.started": "2023-07-18T13:20:11.350431Z",
          "shell.execute_reply": "2023-07-18T13:20:11.361620Z"
        },
        "trusted": true,
        "id": "HDKBfEw0Qxqi"
      },
      "execution_count": null,
      "outputs": []
    },
    {
      "cell_type": "code",
      "source": [
        "df1.head()"
      ],
      "metadata": {
        "execution": {
          "iopub.status.busy": "2023-07-18T13:20:11.366292Z",
          "iopub.execute_input": "2023-07-18T13:20:11.366583Z",
          "iopub.status.idle": "2023-07-18T13:20:11.386567Z",
          "shell.execute_reply.started": "2023-07-18T13:20:11.366560Z",
          "shell.execute_reply": "2023-07-18T13:20:11.385536Z"
        },
        "trusted": true,
        "id": "XLfAy4cvQxqi"
      },
      "execution_count": null,
      "outputs": []
    },
    {
      "cell_type": "code",
      "source": [
        "df1 = df1.astype(str)"
      ],
      "metadata": {
        "execution": {
          "iopub.status.busy": "2023-07-18T13:20:11.389235Z",
          "iopub.execute_input": "2023-07-18T13:20:11.389531Z",
          "iopub.status.idle": "2023-07-18T13:20:11.433376Z",
          "shell.execute_reply.started": "2023-07-18T13:20:11.389496Z",
          "shell.execute_reply": "2023-07-18T13:20:11.432468Z"
        },
        "trusted": true,
        "id": "MfJg6EIeQxqi"
      },
      "execution_count": null,
      "outputs": []
    },
    {
      "cell_type": "markdown",
      "source": [
        "# Viewing some images paths"
      ],
      "metadata": {
        "id": "RVN-kIg9Qxqj"
      }
    },
    {
      "cell_type": "code",
      "source": [
        "img_file_path[:5]"
      ],
      "metadata": {
        "execution": {
          "iopub.status.busy": "2023-07-18T13:20:11.434868Z",
          "iopub.execute_input": "2023-07-18T13:20:11.435240Z",
          "iopub.status.idle": "2023-07-18T13:20:11.441546Z",
          "shell.execute_reply.started": "2023-07-18T13:20:11.435173Z",
          "shell.execute_reply": "2023-07-18T13:20:11.440569Z"
        },
        "trusted": true,
        "id": "_LuYK0O_Qxqj"
      },
      "execution_count": null,
      "outputs": []
    },
    {
      "cell_type": "markdown",
      "source": [
        "# Writing info for each images"
      ],
      "metadata": {
        "id": "-TMa68KBQxqj"
      }
    },
    {
      "cell_type": "code",
      "source": [
        "def copy_label(label_items, folder_name):\n",
        "    file_name = [x.split('.')[0] for x in img_file_path]\n",
        "    for name in file_name:\n",
        "        data = df1[df1.name == name]\n",
        "        box_list = []\n",
        "        for idx in range(len(data)):\n",
        "            row = data.iloc[idx]\n",
        "            box_list.append(row['class']+\" \"+row['x_center']+\" \"+row['y_center']+\" \"+ row['box_width']+\" \"+row['box_height'])\n",
        "\n",
        "        text = \"\\n\".join(box_list)\n",
        "        with open(f'/content/yolov5/data/{folder_name}/labels/{name}.txt', 'w') as file:\n",
        "            file.write(text)"
      ],
      "metadata": {
        "execution": {
          "iopub.status.busy": "2023-07-18T13:20:11.442725Z",
          "iopub.execute_input": "2023-07-18T13:20:11.443757Z",
          "iopub.status.idle": "2023-07-18T13:20:11.452226Z",
          "shell.execute_reply.started": "2023-07-18T13:20:11.443701Z",
          "shell.execute_reply": "2023-07-18T13:20:11.451256Z"
        },
        "trusted": true,
        "id": "rjBnFCNXQxqj"
      },
      "execution_count": null,
      "outputs": []
    },
    {
      "cell_type": "code",
      "source": [
        "copy_label(train, 'train')\n",
        "copy_label(val, 'val')\n",
        "copy_label(test, 'test')"
      ],
      "metadata": {
        "execution": {
          "iopub.status.busy": "2023-07-18T13:20:11.453405Z",
          "iopub.execute_input": "2023-07-18T13:20:11.454307Z",
          "iopub.status.idle": "2023-07-18T13:20:15.258179Z",
          "shell.execute_reply.started": "2023-07-18T13:20:11.454273Z",
          "shell.execute_reply": "2023-07-18T13:20:15.256156Z"
        },
        "trusted": true,
        "id": "nUABZ3oYQxqj"
      },
      "execution_count": null,
      "outputs": []
    },
    {
      "cell_type": "code",
      "source": [
        "os.chdir('/content/yolov5/data/train/labels')"
      ],
      "metadata": {
        "execution": {
          "iopub.status.busy": "2023-07-18T13:20:15.259774Z",
          "iopub.execute_input": "2023-07-18T13:20:15.260928Z",
          "iopub.status.idle": "2023-07-18T13:20:15.266038Z",
          "shell.execute_reply.started": "2023-07-18T13:20:15.260890Z",
          "shell.execute_reply": "2023-07-18T13:20:15.264740Z"
        },
        "trusted": true,
        "id": "rXTJszjuQxqj"
      },
      "execution_count": null,
      "outputs": []
    },
    {
      "cell_type": "code",
      "source": [
        "cat maksssksksss0.txt"
      ],
      "metadata": {
        "execution": {
          "iopub.status.busy": "2023-07-18T13:20:15.267923Z",
          "iopub.execute_input": "2023-07-18T13:20:15.268268Z",
          "iopub.status.idle": "2023-07-18T13:20:16.261018Z",
          "shell.execute_reply.started": "2023-07-18T13:20:15.268234Z",
          "shell.execute_reply": "2023-07-18T13:20:16.259874Z"
        },
        "trusted": true,
        "id": "n-pinPSTQxqk"
      },
      "execution_count": null,
      "outputs": []
    },
    {
      "cell_type": "markdown",
      "source": [
        "# Creating yaml file"
      ],
      "metadata": {
        "id": "bJKUsWiwQxqk"
      }
    },
    {
      "cell_type": "code",
      "source": [
        "# Configure .yaml file\n",
        "yaml_file = \"\"\"train: /content/yolov5/data/train/images\n",
        "val: /content/yolov5/data/val/images\n",
        "\n",
        "nc: 2\n",
        "names: [without_mask, with_mask]\"\"\"\n",
        "\n",
        "with open('/content/yolov5/data/data.yaml', 'w') as f:\n",
        "    f.write(yaml_file)"
      ],
      "metadata": {
        "execution": {
          "iopub.status.busy": "2023-07-18T13:20:16.262869Z",
          "iopub.execute_input": "2023-07-18T13:20:16.263570Z",
          "iopub.status.idle": "2023-07-18T13:20:16.269590Z",
          "shell.execute_reply.started": "2023-07-18T13:20:16.263534Z",
          "shell.execute_reply": "2023-07-18T13:20:16.268736Z"
        },
        "trusted": true,
        "id": "9w6YoeD9Qxqk"
      },
      "execution_count": null,
      "outputs": []
    },
    {
      "cell_type": "code",
      "source": [
        "%cat /content/yolov5/data/data.yaml"
      ],
      "metadata": {
        "execution": {
          "iopub.status.busy": "2023-07-18T13:20:16.271204Z",
          "iopub.execute_input": "2023-07-18T13:20:16.272214Z",
          "iopub.status.idle": "2023-07-18T13:20:17.287815Z",
          "shell.execute_reply.started": "2023-07-18T13:20:16.272181Z",
          "shell.execute_reply": "2023-07-18T13:20:17.286557Z"
        },
        "trusted": true,
        "id": "eHCfr0c5Qxqk"
      },
      "execution_count": null,
      "outputs": []
    },
    {
      "cell_type": "markdown",
      "source": [
        "# Training"
      ],
      "metadata": {
        "id": "-IRQhbsnQxqk"
      }
    },
    {
      "cell_type": "code",
      "source": [
        "!python /content/yolov5/train.py --img 640 --batch 16 --epochs 50 --data  /content/yolov5/data/data.yaml --cfg  /content/yolov5/models/yolov5s.yaml --weights '' --name best\n"
      ],
      "metadata": {
        "id": "C0zEuN8FfH6l"
      },
      "execution_count": null,
      "outputs": []
    },
    {
      "cell_type": "markdown",
      "source": [
        "# Displaying Training and Validation batches"
      ],
      "metadata": {
        "id": "i-ryayhaQxql"
      }
    },
    {
      "cell_type": "code",
      "source": [
        "!python /content/yolov5/detect.py --source /content/drive/MyDrive/kaggle/input/face-mask-detection/sample2.jpg --weights /content/drive/MyDrive/workk/yolov5/runs/train/best/weights/best.pt --img-size 640\n"
      ],
      "metadata": {
        "id": "qGF_TUd4bTX3"
      },
      "execution_count": null,
      "outputs": []
    },
    {
      "cell_type": "code",
      "source": [
        "import torch\n",
        "import cv2\n",
        "import numpy as np\n",
        "\n",
        "# Load the YOLOv5 model\n",
        "model = torch.hub.load('ultralytics/yolov5', 'custom', path='/content/drive/MyDrive/workk/yolov5/runs/train/best/weights/best.pt')\n",
        "\n",
        "# Define the webcam video stream\n",
        "cap = cv2.VideoCapture(0)  # 0 for default webcam\n",
        "\n",
        "# Check if the webcam is opened correctly\n",
        "if not cap.isOpened():\n",
        "    print(\"Error: Could not open webcam.\")\n",
        "    exit()\n",
        "\n",
        "while True:\n",
        "    # Capture frame-by-frame\n",
        "    ret, frame = cap.read()\n",
        "    if not ret:\n",
        "        print(\"Failed to grab frame\")\n",
        "        break\n",
        "\n",
        "    # Perform object detection\n",
        "    results = model(frame)\n",
        "\n",
        "    # Render the results on the frame\n",
        "    frame = np.squeeze(results.render())\n",
        "\n",
        "    # Display the resulting frame\n",
        "    cv2.imshow('YOLOv5 Detection', frame)\n",
        "\n",
        "    # Exit loop on 'q' key press\n",
        "    if cv2.waitKey(1) & 0xFF == ord('q'):\n",
        "        break\n",
        "\n",
        "# Release the capture and close any OpenCV windows\n",
        "cap.release()\n",
        "cv2.destroyAllWindows()\n"
      ],
      "metadata": {
        "id": "lR-tHQxRON_0"
      },
      "execution_count": null,
      "outputs": []
    },
    {
      "cell_type": "code",
      "source": [
        "!python --version"
      ],
      "metadata": {
        "id": "gdmJp5_PuMNP"
      },
      "execution_count": null,
      "outputs": []
    }
  ]
}